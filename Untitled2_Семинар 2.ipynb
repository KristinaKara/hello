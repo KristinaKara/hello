{
  "nbformat": 4,
  "nbformat_minor": 0,
  "metadata": {
    "colab": {
      "provenance": [],
      "authorship_tag": "ABX9TyNaZ9T8uwQdcHVcuxkvabZA",
      "include_colab_link": true
    },
    "kernelspec": {
      "name": "python3",
      "display_name": "Python 3"
    },
    "language_info": {
      "name": "python"
    }
  },
  "cells": [
    {
      "cell_type": "markdown",
      "metadata": {
        "id": "view-in-github",
        "colab_type": "text"
      },
      "source": [
        "<a href=\"https://colab.research.google.com/github/KristinaKara/hello/blob/main/Untitled2_%D0%A1%D0%B5%D0%BC%D0%B8%D0%BD%D0%B0%D1%80%202.ipynb\" target=\"_parent\"><img src=\"https://colab.research.google.com/assets/colab-badge.svg\" alt=\"Open In Colab\"/></a>"
      ]
    },
    {
      "cell_type": "code",
      "execution_count": 6,
      "metadata": {
        "id": "6fwRYOqnCEWO",
        "colab": {
          "base_uri": "https://localhost:8080/"
        },
        "outputId": "e9f139da-5c04-47b2-8a80-088603ac5980"
      },
      "outputs": [
        {
          "output_type": "stream",
          "name": "stdout",
          "text": [
            "Введи число N:10\n",
            " 2 в степени 0 равна 1\n",
            " 2 в степени 1 равна 2\n",
            " 2 в степени 2 равна 4\n",
            " 2 в степени 3 равна 8\n"
          ]
        }
      ],
      "source": [
        "# Задача 10: На столе лежат n монеток. Некоторые из них лежат вверх решкой, а некоторые – гербом.\n",
        "# Определите минимальное число монеток, которые нужно перевернуть, чтобы все монетки были повернуты\n",
        "# вверх одной и той же стороной. Выведите минимальное количество монет, которые нужно перевернуть.\n",
        "\n",
        "#N = int(input('Введите количество монет'))\n",
        "#orel = reshka = 0\n",
        "#for i in range(N):\n",
        "#  x = int(input('Орел(1) или решка(0)?'))\n",
        "# if x == 1:\n",
        "#    orel += 1\n",
        "#  else:\n",
        "#    reshka += 1\n",
        "#if orel < reshka:\n",
        "# print(f'Переверните {orel} монет с орла на решку, их меньше всего')\n",
        "#elif orel == reshka:\n",
        "#  print(f'Количество орлов и решек одинаково, по {orel} штук')\n",
        "#else:\n",
        "# print((f'Переверните {reshka} монет с решки на орла, их меньше всего'))\n",
        "\n",
        "# Задача 12: Петя и Катя – брат и сестра. Петя – студент, а Катя – школьница.\n",
        "# Петя помогает Кате по математике. Он задумывает два натуральных числа X и Y (X,Y≤1000), а Катя должна их отгадать.\n",
        "# Для этого Петя делает две подсказки. Он называет сумму этих чисел S и их произведение P.\n",
        "# Помогите Кате отгадать задуманные Петей числа.\n",
        "\n",
        "#s = int(input('Задай сумму двух чисел \\n'))\n",
        "#p = int(input('Задай произведение чисел \\n'))\n",
        "#for x in range(s):\n",
        "#   for y in range(p):\n",
        "#       if s == x + y and p == x * y:\n",
        "#           print(f'первое число =\"{x}\", второе число =\"{y}\"')\n",
        "\n",
        "\n",
        "# Задача 14: Требуется вывести все целые степени двойки (т.е. числа вида 2k), не превосходящие числа N.\n",
        "n = int(input('Введи число N:'))\n",
        "i = 0\n",
        "while 2 ** i <= n:\n",
        "  print(f' 2 в степени {i} равна {2 ** i}')\n",
        "  i += 1"
      ]
    },
    {
      "cell_type": "code",
      "source": [],
      "metadata": {
        "id": "uL32fxXBFHTc"
      },
      "execution_count": null,
      "outputs": []
    }
  ]
}